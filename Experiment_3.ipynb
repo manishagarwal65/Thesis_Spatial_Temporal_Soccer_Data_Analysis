{
 "cells": [
  {
   "cell_type": "code",
   "execution_count": 1,
   "metadata": {},
   "outputs": [],
   "source": [
    "# Import all the required Libraries\n",
    "\n",
    "import json\n",
    "import numpy as np\n",
    "import matplotlib.pyplot as plt\n",
    "from matplotlib.ticker import FuncFormatter\n",
    "from matplotlib.patches import Ellipse\n",
    "import seaborn as sns\n",
    "import pandas as pd\n",
    "import networkx as nx\n",
    "import math\n",
    "import csv\n",
    "import matplotlib.pylab as pyl\n",
    "import itertools\n",
    "\n",
    "import warnings\n",
    "warnings.filterwarnings('ignore')"
   ]
  },
  {
   "cell_type": "code",
   "execution_count": 2,
   "metadata": {},
   "outputs": [],
   "source": [
    "# Read all the event files of all the leagues\n",
    "events=[]\n",
    "leagues = ['England']\n",
    "for league in leagues:\n",
    "    events.append(pd.read_json('dataset\\events\\events_%s.json' %league))"
   ]
  },
  {
   "cell_type": "code",
   "execution_count": 3,
   "metadata": {},
   "outputs": [],
   "source": [
    "# Read all the matches in all the leagues\n",
    "matches=[]\n",
    "leagues = ['England']\n",
    "for match in leagues:\n",
    "    matches.append(pd.read_json('dataset\\matches\\matches_%s.json' %match))"
   ]
  },
  {
   "cell_type": "code",
   "execution_count": 4,
   "metadata": {},
   "outputs": [],
   "source": [
    "# Read required input files\n",
    "\n",
    "\n",
    "player_df = pd.read_json(\"dataset\\players.json\")\n",
    "team_data_df = pd.read_json(\"dataset/teams.json\") \n",
    "\n",
    "\n",
    "\n"
   ]
  },
  {
   "cell_type": "code",
   "execution_count": 5,
   "metadata": {},
   "outputs": [],
   "source": [
    "# Data Preprocessing\n",
    "\n",
    "# Conversion of special character into normal character in players name\n",
    "\n",
    "def jsonparse(x):\n",
    "    s = '\"'+x+'\"'\n",
    "    s = s.replace('\t', '')\n",
    "    return json.loads(s.replace('\t', ''))\n",
    "\n",
    "player_df['shortName'] = player_df['shortName'].map(lambda x: jsonparse(x))\n",
    "\n",
    "\n",
    "# Addition of a player name based on player id in the event dataframe\n",
    "\n",
    "a=player_df[['wyId','shortName']]    # Selecting the player name from player dataframe\n",
    "\n",
    "for event in events:    \n",
    "    b=event[['playerId']]             # Selecting the playerId from the event dataframe\n",
    "    c=b.merge(a,how='left', left_on='playerId', right_on='wyId')  # Merging both the dataframe\n",
    "    event[\"player\"] = c.shortName           # Addition of the player name in the event dataframe\n",
    "\n"
   ]
  },
  {
   "cell_type": "code",
   "execution_count": 8,
   "metadata": {},
   "outputs": [],
   "source": [
    "def passing_network(event_df, match_df, match_Id = 2499954):\n",
    "    \n",
    " \n",
    "    team_temp_list = []   # Temporary team metric list\n",
    "    \n",
    "   \n",
    "    match_description = match_df.label.values[0] \n",
    "    \n",
    "    \n",
    "   \n",
    "    # Filtering the passing events\n",
    "    pass_events = event_df[event_df.eventName == 'Pass']\n",
    "    pass_events = pass_events.dropna(how='any',axis=0)\n",
    "\n",
    "    \n",
    "    # Altering the time of the event in the second half by adding the maximum time of the first half\n",
    "    first_half_max_duration = np.max(pass_events[pass_events['matchPeriod'] == '1H']['eventSec'])\n",
    "    pass_events.loc[pass_events.matchPeriod == \"2H\", \"eventSec\"] = pass_events.eventSec + first_half_max_duration  \n",
    "    \n",
    "   \n",
    "      \n",
    "        \n",
    "    # Segregation of teams  and team passes in the match\n",
    "    \n",
    "    team_id=pass_events.teamId.unique()\n",
    "    \n",
    "    # Team names\n",
    "    team1_name = team_data_df.name[team_data_df['wyId']==team_id[0]].values[0]\n",
    "    team2_name = team_data_df.name[team_data_df['wyId']==team_id[1]].values[0]\n",
    "    \n",
    "    Teams_Played = team1_name + '-' + team2_name\n",
    "    \n",
    "    # Seperation of the passess \n",
    "    team1_pass_events = pass_events[pass_events['teamId'] == team_id[0]]\n",
    "    team2_pass_events = pass_events[pass_events['teamId'] == team_id[1]]       \n",
    "       \n",
    "\n",
    "    # Result of the match\n",
    "    winner = match_df.winner.values[0]\n",
    "\n",
    "    \n",
    "    if winner == team_id[0]:\n",
    "        team_temp_list.append(\"Team_1\")\n",
    "    else:\n",
    "        if winner == team_id[1]:\n",
    "            team_temp_list.append(\"Team_2\")\n",
    "        else:\n",
    "            team_temp_list.append(\"Draw\")       \n",
    "        \n",
    "\n",
    "    \n",
    "        \n",
    "\n",
    "#   split pass between team1 and team2 \n",
    "    \n",
    "    team_1 = pd.DataFrame()\n",
    "    \n",
    "    team_1['sender'] = team1_pass_events.player\n",
    "    team_1['receiver'] = team1_pass_events.player.shift(-1).dropna()\n",
    "    \n",
    "    team_2 = pd.DataFrame()\n",
    "    team_2['sender'] = team2_pass_events.player\n",
    "    team_2['receiver'] = team2_pass_events.player.shift(-1).dropna()\n",
    "    \n",
    " \n",
    "\n",
    "\n",
    "    #create dataframe of sender and receiver with number of passes for team 1\n",
    "    \n",
    "    df_team1 = []\n",
    "    for i,row in team_1.iterrows():\n",
    "        if row['sender'] == row['receiver']:\n",
    "            pass        \n",
    "        else:\n",
    "            df_team1.append([row['sender'],row['receiver']])\n",
    "    df_team1 = pd.DataFrame(df_team1, columns=['sender','receiver']) \n",
    "    \n",
    "    # Dataframe with total number of passess between two player of team 1\n",
    "    df_team1_count = df_team1.groupby(['sender','receiver']).size().reset_index(name=\"No_of_Passes\")\n",
    "    \n",
    "      \n",
    "         \n",
    "    # Total number of passess in team 1 \n",
    "   \n",
    "    team1_total_passes = df_team1_count.No_of_Passes.sum()     \n",
    "       \n",
    "    \n",
    "\n",
    "\n",
    "\n",
    "    # create dataframe of sender and receiver with number of passes for team 2\n",
    "\n",
    "    df_team2 = []\n",
    "    for i,row in team_2.iterrows():\n",
    "        if row['sender'] == row['receiver']:\n",
    "            pass        \n",
    "        else:\n",
    "            df_team2.append([row['sender'],row['receiver']])\n",
    "    df_team2 = pd.DataFrame(df_team2, columns=['sender','receiver']) \n",
    "    \n",
    "    # Dataframe with total number of passess between two player of team 2\n",
    "    df_team2_count = df_team2.groupby(['sender','receiver']).size().reset_index(name=\"No_of_Passes\")\n",
    "    \n",
    "    # Total number of passess in team 2 \n",
    "   \n",
    "    team2_total_passes = df_team2_count.No_of_Passes.sum()  \n",
    "   \n",
    "\n",
    "    \n",
    "\n",
    "    # Calculation of position of the player for team 1   \n",
    "\n",
    "    pos1 = {}\n",
    "    actual_pos1 = {}\n",
    "    pos1_relative = {}  # Position of the player with respect to football pitch layout\n",
    "    \n",
    "        \n",
    "    for player in list(df_team1['sender'].unique()):\n",
    "        x, y = [], []\n",
    "        df_match_player = pass_events[pass_events.player==player]\n",
    "        for i,row in df_match_player.iterrows():\n",
    "            x.append(row['positions'][0]['x'])            \n",
    "            y.append(row['positions'][0]['y'])\n",
    "            \n",
    "        # Mean position of the player\n",
    "        actual_pos1[player] = (int(np.mean(x)), int(np.mean(y)))\n",
    "        pos1[player] = (int(105 - np.mean(x)), int(69-(np.mean(y))))\n",
    "        pos1_relative[(player)] = (int(105 - np.mean(x)), int(69-(np.mean(y)/100 * 69)))\n",
    "        \n",
    "        \n",
    "       \n",
    "    \n",
    "    # Calculation of the average possession position of the team 1\n",
    "    pos1_df =  pd.DataFrame(actual_pos1).T.reset_index()\n",
    "    pos1_df.columns = ['Player','X','Y']\n",
    "    \n",
    "    team1_possession_mean_x = pos1_df[\"X\"].mean()\n",
    "    team1_possession_mean_y = pos1_df[\"Y\"].mean()\n",
    "    \n",
    "    \n",
    "  \n",
    "        \n",
    "    # Calculation of position of the player for team 2  \n",
    "\n",
    "    pos2 = {}\n",
    "    actual_pos2 = {}\n",
    "    pos2_relative = {}  # Position of the player with respect to football pitch layout\n",
    "    \n",
    "    for player in list(df_team2['sender'].unique()):\n",
    "        x, y = [], []\n",
    "        df_match_player = pass_events[pass_events.player==player]\n",
    "        for i,row in df_match_player.iterrows():\n",
    "            x.append(row['positions'][0]['x'])\n",
    "            y.append(row['positions'][0]['y'])\n",
    "        \n",
    "        # Mean position of the players during the match\n",
    "                \n",
    "        actual_pos2[player] = (int(np.mean(x)), int(np.mean(y)))\n",
    "        pos2[(player)] = (int(np.mean(x)), int(np.mean(y)))        \n",
    "        pos2_relative[(player)] = (int(np.mean(x)), int(np.mean(y)/100 * 69))\n",
    "        \n",
    "    \n",
    "   \n",
    "     # Calculation of the average possession position of the team 2\n",
    "    pos2_df =  pd.DataFrame(actual_pos2).T.reset_index()\n",
    "    pos2_df.columns = ['Player','X','Y']\n",
    "    \n",
    "    team2_possession_mean_x = pos2_df[\"X\"].mean()\n",
    "    team2_possession_mean_y = pos2_df[\"Y\"].mean()   \n",
    " \n",
    "    \n",
    "    \n",
    "  # Passing Network for the team 1\n",
    "    \n",
    "    g = nx.Graph()\n",
    "    for i,row in df_team1_count.iterrows():\n",
    "        g.add_edge(row['sender'],row['receiver'],weight=row['No_of_Passes'])\n",
    "    deg = dict(g.degree)\n",
    "    team1_degree = 0\n",
    "    for player_deg in deg.values():\n",
    "        team1_degree = team1_degree + player_deg\n",
    "    \n",
    "    \n",
    "    team1_centrality = round(nx.global_reaching_centrality(g),2)\n",
    "    team1_avg_clustering = round(nx.average_clustering(g),2)\n",
    "    team1_connectivity = round(nx.algebraic_connectivity(g),2)\n",
    "    team1_density = round(nx.density(g),2)\n",
    "    team1_diameter = nx.diameter(g)\n",
    "    team1_asp = round(nx.average_shortest_path_length(g),2)\n",
    "    \n",
    "    \n",
    "\n",
    "       \n",
    "    \n",
    "    # Passing Network for the team 2\n",
    "    \n",
    "    r = nx.Graph()\n",
    "    for i,row in df_team2_count.iterrows():\n",
    "        r.add_edge(row['sender'],row['receiver'],weight=row['No_of_Passes'])\n",
    "    deg = dict(r.degree)\n",
    "    team2_degree = 0\n",
    "    for player_deg in deg.values():\n",
    "        team2_degree = team2_degree + player_deg\n",
    "    \n",
    "    team2_centrality = round(nx.global_reaching_centrality(r),2)\n",
    "    team2_avg_clustering = round(nx.average_clustering(r),2)\n",
    "    team2_connectivity =round(nx.algebraic_connectivity(r),2)\n",
    "    team2_density = round(nx.density(r),2)\n",
    "    team2_diameter = nx.diameter(r)\n",
    "    team2_asp = round(nx.average_shortest_path_length(r),2)\n",
    "    \n",
    "\n",
    "\n",
    "        \n",
    "        \n",
    "    # Append all the features in the original list\n",
    "     \n",
    "    team_temp_list.append(Teams_Played)                                      \n",
    "    team_temp_list.append(team1_name)\n",
    "    team_temp_list.append(team2_name)\n",
    "    team_temp_list.append(team1_total_passes)\n",
    "    team_temp_list.append(team2_total_passes)\n",
    "    team_temp_list.append(round(team1_possession_mean_x,2))\n",
    "    team_temp_list.append(round(team1_possession_mean_y,2))\n",
    "    team_temp_list.append(round(team2_possession_mean_x,2))\n",
    "    team_temp_list.append(round(team2_possession_mean_y,2))\n",
    "    team_temp_list.append(team1_degree)\n",
    "    team_temp_list.append(team2_degree)\n",
    "    team_temp_list.append(team1_centrality)\n",
    "    team_temp_list.append(team2_centrality)\n",
    "    team_temp_list.append(team1_avg_clustering)\n",
    "    team_temp_list.append(team2_avg_clustering)\n",
    "    team_temp_list.append(team1_connectivity)\n",
    "    team_temp_list.append(team2_connectivity)\n",
    "    team_temp_list.append(team1_density)\n",
    "    team_temp_list.append(team2_density) \n",
    "    team_temp_list.append(team1_diameter)\n",
    "    team_temp_list.append(team2_diameter)\n",
    "    team_temp_list.append(team1_asp)\n",
    "    team_temp_list.append(team2_asp)\n",
    "    \n",
    "    \n",
    "\n",
    "    \n",
    "    teams_metrics_list.append(team_temp_list)\n",
    "    \n",
    "   \n",
    "\n",
    "    \n",
    "  \n",
    "    \n",
    "    \n"
   ]
  },
  {
   "cell_type": "markdown",
   "metadata": {},
   "source": [
    "### Machine Learning"
   ]
  },
  {
   "cell_type": "code",
   "execution_count": 9,
   "metadata": {},
   "outputs": [],
   "source": [
    "# Generate the network metrics for all the matches\n",
    "\n",
    "teams_metrics_list = []  \n",
    "for idx, match_df in enumerate(matches):\n",
    "    events_df = events[idx]\n",
    "    for match_id in match_df.wyId:\n",
    "        row = match_df[match_df.wyId == match_id]\n",
    "        event_df = events_df[events_df.matchId == match_id]\n",
    "        passing_network(event_df, row, match_id)"
   ]
  },
  {
   "cell_type": "code",
   "execution_count": 10,
   "metadata": {},
   "outputs": [
    {
     "data": {
      "text/plain": [
       "(380, 24)"
      ]
     },
     "execution_count": 10,
     "metadata": {},
     "output_type": "execute_result"
    }
   ],
   "source": [
    "data=np.array(teams_metrics_list)\n",
    "\n",
    "data.shape\n"
   ]
  },
  {
   "cell_type": "code",
   "execution_count": 11,
   "metadata": {},
   "outputs": [],
   "source": [
    "columns = ['Winner','Teams','Team_1', 'Team_2', 'T1_Passes','T2_Passes','T1_possession_X','T1_possession_Y','T2_possession_X','T2_possession_Y','T1_degree','T2_degree','T1_Centrality','T2_Centrality','T1_Avg_Cluster','T2_Avg_Cluster','T1_Connectivity','T2_Connectivity','T1_Density','T2_Density','T1_Diameter','T2_Diameter','T1_ASP','T2_ASP']\n",
    "feature_df = pd.DataFrame(data, columns=columns) "
   ]
  },
  {
   "cell_type": "code",
   "execution_count": 12,
   "metadata": {},
   "outputs": [
    {
     "data": {
      "text/html": [
       "<div>\n",
       "<style scoped>\n",
       "    .dataframe tbody tr th:only-of-type {\n",
       "        vertical-align: middle;\n",
       "    }\n",
       "\n",
       "    .dataframe tbody tr th {\n",
       "        vertical-align: top;\n",
       "    }\n",
       "\n",
       "    .dataframe thead th {\n",
       "        text-align: right;\n",
       "    }\n",
       "</style>\n",
       "<table border=\"1\" class=\"dataframe\">\n",
       "  <thead>\n",
       "    <tr style=\"text-align: right;\">\n",
       "      <th></th>\n",
       "      <th>Teams</th>\n",
       "      <th>Team_1</th>\n",
       "      <th>Team_2</th>\n",
       "      <th>T1_Passes</th>\n",
       "      <th>T2_Passes</th>\n",
       "      <th>T1_possession_X</th>\n",
       "      <th>T1_possession_Y</th>\n",
       "      <th>T2_possession_X</th>\n",
       "      <th>T2_possession_Y</th>\n",
       "      <th>T1_degree</th>\n",
       "      <th>...</th>\n",
       "      <th>T2_Avg_Cluster</th>\n",
       "      <th>T1_Connectivity</th>\n",
       "      <th>T2_Connectivity</th>\n",
       "      <th>T1_Density</th>\n",
       "      <th>T2_Density</th>\n",
       "      <th>T1_Diameter</th>\n",
       "      <th>T2_Diameter</th>\n",
       "      <th>T1_ASP</th>\n",
       "      <th>T2_ASP</th>\n",
       "      <th>Winner</th>\n",
       "    </tr>\n",
       "  </thead>\n",
       "  <tbody>\n",
       "    <tr>\n",
       "      <th>0</th>\n",
       "      <td>AFC Bournemouth-Burnley</td>\n",
       "      <td>AFC Bournemouth</td>\n",
       "      <td>Burnley</td>\n",
       "      <td>356</td>\n",
       "      <td>398</td>\n",
       "      <td>47.36</td>\n",
       "      <td>42.0</td>\n",
       "      <td>56.71</td>\n",
       "      <td>46.14</td>\n",
       "      <td>146</td>\n",
       "      <td>...</td>\n",
       "      <td>0.83</td>\n",
       "      <td>8.2</td>\n",
       "      <td>1.05</td>\n",
       "      <td>0.8</td>\n",
       "      <td>0.74</td>\n",
       "      <td>2</td>\n",
       "      <td>3</td>\n",
       "      <td>1.2</td>\n",
       "      <td>1.27</td>\n",
       "      <td>Team_1</td>\n",
       "    </tr>\n",
       "    <tr>\n",
       "      <th>1</th>\n",
       "      <td>Crystal Palace-West Bromwich Albion</td>\n",
       "      <td>Crystal Palace</td>\n",
       "      <td>West Bromwich Albion</td>\n",
       "      <td>525</td>\n",
       "      <td>357</td>\n",
       "      <td>50.43</td>\n",
       "      <td>47.79</td>\n",
       "      <td>48.57</td>\n",
       "      <td>50.57</td>\n",
       "      <td>140</td>\n",
       "      <td>...</td>\n",
       "      <td>0.83</td>\n",
       "      <td>7.22</td>\n",
       "      <td>6.45</td>\n",
       "      <td>0.77</td>\n",
       "      <td>0.74</td>\n",
       "      <td>2</td>\n",
       "      <td>2</td>\n",
       "      <td>1.23</td>\n",
       "      <td>1.26</td>\n",
       "      <td>Team_1</td>\n",
       "    </tr>\n",
       "    <tr>\n",
       "      <th>2</th>\n",
       "      <td>Huddersfield Town-Arsenal</td>\n",
       "      <td>Huddersfield Town</td>\n",
       "      <td>Arsenal</td>\n",
       "      <td>380</td>\n",
       "      <td>482</td>\n",
       "      <td>48.21</td>\n",
       "      <td>46.43</td>\n",
       "      <td>46.29</td>\n",
       "      <td>45.0</td>\n",
       "      <td>146</td>\n",
       "      <td>...</td>\n",
       "      <td>0.91</td>\n",
       "      <td>3.94</td>\n",
       "      <td>12.23</td>\n",
       "      <td>0.8</td>\n",
       "      <td>0.86</td>\n",
       "      <td>2</td>\n",
       "      <td>2</td>\n",
       "      <td>1.2</td>\n",
       "      <td>1.14</td>\n",
       "      <td>Team_2</td>\n",
       "    </tr>\n",
       "    <tr>\n",
       "      <th>3</th>\n",
       "      <td>Liverpool-Brighton &amp; Hove Albion</td>\n",
       "      <td>Liverpool</td>\n",
       "      <td>Brighton &amp; Hove Albion</td>\n",
       "      <td>703</td>\n",
       "      <td>241</td>\n",
       "      <td>56.14</td>\n",
       "      <td>53.43</td>\n",
       "      <td>39.57</td>\n",
       "      <td>52.64</td>\n",
       "      <td>138</td>\n",
       "      <td>...</td>\n",
       "      <td>0.83</td>\n",
       "      <td>7.07</td>\n",
       "      <td>7.04</td>\n",
       "      <td>0.76</td>\n",
       "      <td>0.77</td>\n",
       "      <td>2</td>\n",
       "      <td>2</td>\n",
       "      <td>1.24</td>\n",
       "      <td>1.23</td>\n",
       "      <td>Team_1</td>\n",
       "    </tr>\n",
       "    <tr>\n",
       "      <th>4</th>\n",
       "      <td>Manchester United-Watford</td>\n",
       "      <td>Manchester United</td>\n",
       "      <td>Watford</td>\n",
       "      <td>428</td>\n",
       "      <td>412</td>\n",
       "      <td>44.0</td>\n",
       "      <td>47.21</td>\n",
       "      <td>49.29</td>\n",
       "      <td>49.5</td>\n",
       "      <td>140</td>\n",
       "      <td>...</td>\n",
       "      <td>0.85</td>\n",
       "      <td>4.17</td>\n",
       "      <td>6.74</td>\n",
       "      <td>0.77</td>\n",
       "      <td>0.78</td>\n",
       "      <td>2</td>\n",
       "      <td>2</td>\n",
       "      <td>1.23</td>\n",
       "      <td>1.22</td>\n",
       "      <td>Team_1</td>\n",
       "    </tr>\n",
       "    <tr>\n",
       "      <th>...</th>\n",
       "      <td>...</td>\n",
       "      <td>...</td>\n",
       "      <td>...</td>\n",
       "      <td>...</td>\n",
       "      <td>...</td>\n",
       "      <td>...</td>\n",
       "      <td>...</td>\n",
       "      <td>...</td>\n",
       "      <td>...</td>\n",
       "      <td>...</td>\n",
       "      <td>...</td>\n",
       "      <td>...</td>\n",
       "      <td>...</td>\n",
       "      <td>...</td>\n",
       "      <td>...</td>\n",
       "      <td>...</td>\n",
       "      <td>...</td>\n",
       "      <td>...</td>\n",
       "      <td>...</td>\n",
       "      <td>...</td>\n",
       "      <td>...</td>\n",
       "    </tr>\n",
       "    <tr>\n",
       "      <th>375</th>\n",
       "      <td>Everton-Stoke City</td>\n",
       "      <td>Everton</td>\n",
       "      <td>Stoke City</td>\n",
       "      <td>461</td>\n",
       "      <td>253</td>\n",
       "      <td>50.5</td>\n",
       "      <td>51.5</td>\n",
       "      <td>53.08</td>\n",
       "      <td>48.92</td>\n",
       "      <td>146</td>\n",
       "      <td>...</td>\n",
       "      <td>0.87</td>\n",
       "      <td>6.24</td>\n",
       "      <td>5.08</td>\n",
       "      <td>0.8</td>\n",
       "      <td>0.79</td>\n",
       "      <td>2</td>\n",
       "      <td>2</td>\n",
       "      <td>1.2</td>\n",
       "      <td>1.21</td>\n",
       "      <td>Team_1</td>\n",
       "    </tr>\n",
       "    <tr>\n",
       "      <th>376</th>\n",
       "      <td>Swansea City-Southampton</td>\n",
       "      <td>Swansea City</td>\n",
       "      <td>Southampton</td>\n",
       "      <td>321</td>\n",
       "      <td>488</td>\n",
       "      <td>44.29</td>\n",
       "      <td>53.93</td>\n",
       "      <td>54.43</td>\n",
       "      <td>44.0</td>\n",
       "      <td>120</td>\n",
       "      <td>...</td>\n",
       "      <td>0.88</td>\n",
       "      <td>3.78</td>\n",
       "      <td>7.18</td>\n",
       "      <td>0.66</td>\n",
       "      <td>0.77</td>\n",
       "      <td>3</td>\n",
       "      <td>2</td>\n",
       "      <td>1.35</td>\n",
       "      <td>1.23</td>\n",
       "      <td>Draw</td>\n",
       "    </tr>\n",
       "    <tr>\n",
       "      <th>377</th>\n",
       "      <td>West Bromwich Albion-AFC Bournemouth</td>\n",
       "      <td>West Bromwich Albion</td>\n",
       "      <td>AFC Bournemouth</td>\n",
       "      <td>225</td>\n",
       "      <td>588</td>\n",
       "      <td>45.62</td>\n",
       "      <td>53.46</td>\n",
       "      <td>56.14</td>\n",
       "      <td>50.5</td>\n",
       "      <td>122</td>\n",
       "      <td>...</td>\n",
       "      <td>0.83</td>\n",
       "      <td>6.72</td>\n",
       "      <td>6.18</td>\n",
       "      <td>0.78</td>\n",
       "      <td>0.73</td>\n",
       "      <td>2</td>\n",
       "      <td>2</td>\n",
       "      <td>1.22</td>\n",
       "      <td>1.27</td>\n",
       "      <td>Team_1</td>\n",
       "    </tr>\n",
       "    <tr>\n",
       "      <th>378</th>\n",
       "      <td>Watford-Liverpool</td>\n",
       "      <td>Watford</td>\n",
       "      <td>Liverpool</td>\n",
       "      <td>355</td>\n",
       "      <td>433</td>\n",
       "      <td>48.57</td>\n",
       "      <td>56.64</td>\n",
       "      <td>45.71</td>\n",
       "      <td>52.43</td>\n",
       "      <td>134</td>\n",
       "      <td>...</td>\n",
       "      <td>0.87</td>\n",
       "      <td>4.14</td>\n",
       "      <td>1.86</td>\n",
       "      <td>0.74</td>\n",
       "      <td>0.68</td>\n",
       "      <td>2</td>\n",
       "      <td>2</td>\n",
       "      <td>1.26</td>\n",
       "      <td>1.32</td>\n",
       "      <td>Draw</td>\n",
       "    </tr>\n",
       "    <tr>\n",
       "      <th>379</th>\n",
       "      <td>Arsenal-Leicester City</td>\n",
       "      <td>Arsenal</td>\n",
       "      <td>Leicester City</td>\n",
       "      <td>590</td>\n",
       "      <td>212</td>\n",
       "      <td>53.57</td>\n",
       "      <td>51.0</td>\n",
       "      <td>49.43</td>\n",
       "      <td>47.14</td>\n",
       "      <td>138</td>\n",
       "      <td>...</td>\n",
       "      <td>0.84</td>\n",
       "      <td>3.17</td>\n",
       "      <td>4.09</td>\n",
       "      <td>0.76</td>\n",
       "      <td>0.73</td>\n",
       "      <td>2</td>\n",
       "      <td>2</td>\n",
       "      <td>1.24</td>\n",
       "      <td>1.27</td>\n",
       "      <td>Team_1</td>\n",
       "    </tr>\n",
       "  </tbody>\n",
       "</table>\n",
       "<p>380 rows × 24 columns</p>\n",
       "</div>"
      ],
      "text/plain": [
       "                                    Teams                Team_1  \\\n",
       "0                 AFC Bournemouth-Burnley       AFC Bournemouth   \n",
       "1     Crystal Palace-West Bromwich Albion        Crystal Palace   \n",
       "2               Huddersfield Town-Arsenal     Huddersfield Town   \n",
       "3        Liverpool-Brighton & Hove Albion             Liverpool   \n",
       "4               Manchester United-Watford     Manchester United   \n",
       "..                                    ...                   ...   \n",
       "375                    Everton-Stoke City               Everton   \n",
       "376              Swansea City-Southampton          Swansea City   \n",
       "377  West Bromwich Albion-AFC Bournemouth  West Bromwich Albion   \n",
       "378                     Watford-Liverpool               Watford   \n",
       "379                Arsenal-Leicester City               Arsenal   \n",
       "\n",
       "                     Team_2 T1_Passes T2_Passes T1_possession_X  \\\n",
       "0                   Burnley       356       398           47.36   \n",
       "1      West Bromwich Albion       525       357           50.43   \n",
       "2                   Arsenal       380       482           48.21   \n",
       "3    Brighton & Hove Albion       703       241           56.14   \n",
       "4                   Watford       428       412            44.0   \n",
       "..                      ...       ...       ...             ...   \n",
       "375              Stoke City       461       253            50.5   \n",
       "376             Southampton       321       488           44.29   \n",
       "377         AFC Bournemouth       225       588           45.62   \n",
       "378               Liverpool       355       433           48.57   \n",
       "379          Leicester City       590       212           53.57   \n",
       "\n",
       "    T1_possession_Y T2_possession_X T2_possession_Y T1_degree  ...  \\\n",
       "0              42.0           56.71           46.14       146  ...   \n",
       "1             47.79           48.57           50.57       140  ...   \n",
       "2             46.43           46.29            45.0       146  ...   \n",
       "3             53.43           39.57           52.64       138  ...   \n",
       "4             47.21           49.29            49.5       140  ...   \n",
       "..              ...             ...             ...       ...  ...   \n",
       "375            51.5           53.08           48.92       146  ...   \n",
       "376           53.93           54.43            44.0       120  ...   \n",
       "377           53.46           56.14            50.5       122  ...   \n",
       "378           56.64           45.71           52.43       134  ...   \n",
       "379            51.0           49.43           47.14       138  ...   \n",
       "\n",
       "    T2_Avg_Cluster T1_Connectivity T2_Connectivity T1_Density T2_Density  \\\n",
       "0             0.83             8.2            1.05        0.8       0.74   \n",
       "1             0.83            7.22            6.45       0.77       0.74   \n",
       "2             0.91            3.94           12.23        0.8       0.86   \n",
       "3             0.83            7.07            7.04       0.76       0.77   \n",
       "4             0.85            4.17            6.74       0.77       0.78   \n",
       "..             ...             ...             ...        ...        ...   \n",
       "375           0.87            6.24            5.08        0.8       0.79   \n",
       "376           0.88            3.78            7.18       0.66       0.77   \n",
       "377           0.83            6.72            6.18       0.78       0.73   \n",
       "378           0.87            4.14            1.86       0.74       0.68   \n",
       "379           0.84            3.17            4.09       0.76       0.73   \n",
       "\n",
       "    T1_Diameter T2_Diameter T1_ASP T2_ASP  Winner  \n",
       "0             2           3    1.2   1.27  Team_1  \n",
       "1             2           2   1.23   1.26  Team_1  \n",
       "2             2           2    1.2   1.14  Team_2  \n",
       "3             2           2   1.24   1.23  Team_1  \n",
       "4             2           2   1.23   1.22  Team_1  \n",
       "..          ...         ...    ...    ...     ...  \n",
       "375           2           2    1.2   1.21  Team_1  \n",
       "376           3           2   1.35   1.23    Draw  \n",
       "377           2           2   1.22   1.27  Team_1  \n",
       "378           2           2   1.26   1.32    Draw  \n",
       "379           2           2   1.24   1.27  Team_1  \n",
       "\n",
       "[380 rows x 24 columns]"
      ]
     },
     "execution_count": 12,
     "metadata": {},
     "output_type": "execute_result"
    }
   ],
   "source": [
    "temp = feature_df['Winner']\n",
    "feature_df.drop(labels=['Winner'], axis=1, inplace = True)\n",
    "feature_df.insert(23, 'Winner', temp)\n",
    "feature_df"
   ]
  },
  {
   "cell_type": "code",
   "execution_count": 13,
   "metadata": {},
   "outputs": [],
   "source": [
    "# Converting columns value into integer and floats\n",
    "\n",
    "feature_df.T1_Passes = feature_df.T1_Passes.apply(lambda x: int(x))\n",
    "feature_df.T2_Passes = feature_df.T2_Passes.apply(lambda x: int(x))\n",
    "feature_df.T1_possession_X = feature_df.T1_possession_X.apply(lambda x: float(x))\n",
    "feature_df.T1_possession_Y = feature_df.T1_possession_Y.apply(lambda x: float(x))\n",
    "feature_df.T2_possession_X = feature_df.T2_possession_X.apply(lambda x: float(x))\n",
    "feature_df.T2_possession_Y = feature_df.T2_possession_Y.apply(lambda x: float(x))\n",
    "feature_df.T1_degree = feature_df.T1_degree.apply(lambda x: int(x))\n",
    "feature_df.T2_degree = feature_df.T2_degree.apply(lambda x: int(x))\n",
    "feature_df.T1_Centrality = feature_df.T1_Centrality.apply(lambda x: float(x))\n",
    "feature_df.T2_Centrality = feature_df.T2_Centrality.apply(lambda x: float(x))\n",
    "feature_df.T1_Avg_Cluster = feature_df.T1_Avg_Cluster.apply(lambda x: float(x))\n",
    "feature_df.T2_Avg_Cluster = feature_df.T2_Avg_Cluster.apply(lambda x: float(x))\n",
    "feature_df.T1_Connectivity = feature_df.T1_Connectivity.apply(lambda x: float(x))\n",
    "feature_df.T2_Connectivity = feature_df.T2_Connectivity.apply(lambda x: float(x))\n",
    "feature_df.T1_Density = feature_df.T1_Density.apply(lambda x: float(x))\n",
    "feature_df.T2_Density = feature_df.T2_Density.apply(lambda x: float(x))\n",
    "feature_df.T1_Diameter = feature_df.T1_Diameter.apply(lambda x: int(x))\n",
    "feature_df.T2_Diameter = feature_df.T2_Diameter.apply(lambda x: int(x))\n",
    "feature_df.T1_ASP = feature_df.T1_ASP.apply(lambda x: float(x))\n",
    "feature_df.T2_ASP = feature_df.T2_ASP.apply(lambda x: float(x))"
   ]
  },
  {
   "cell_type": "code",
   "execution_count": 14,
   "metadata": {},
   "outputs": [],
   "source": [
    "feature_df.set_index('Teams', inplace=True)"
   ]
  },
  {
   "cell_type": "markdown",
   "metadata": {},
   "source": [
    "#### Dataset for Experiment 3.1"
   ]
  },
  {
   "cell_type": "code",
   "execution_count": 15,
   "metadata": {},
   "outputs": [],
   "source": [
    "\n",
    "filter_df1 = feature_df[(feature_df.Team_1 == 'Manchester City') | (feature_df.Team_2 == 'Manchester City') | (feature_df.Team_1 == 'Liverpool') | (feature_df.Team_2 == 'Liverpool')]"
   ]
  },
  {
   "cell_type": "markdown",
   "metadata": {},
   "source": [
    "#### Dataset for Experiment 3.2"
   ]
  },
  {
   "cell_type": "code",
   "execution_count": 16,
   "metadata": {},
   "outputs": [],
   "source": [
    "\n",
    "filter_df2 = feature_df[(feature_df.Team_1 == 'Southampton') | (feature_df.Team_2 == 'Southampton') | (feature_df.Team_1 == 'Newcastle United') | (feature_df.Team_2 == 'Newcastle United')]"
   ]
  },
  {
   "cell_type": "markdown",
   "metadata": {},
   "source": [
    "#### Dataset for Experiment 3.3"
   ]
  },
  {
   "cell_type": "code",
   "execution_count": 17,
   "metadata": {},
   "outputs": [],
   "source": [
    "filter_df3 = feature_df[(feature_df.Team_1 == 'Manchester City') | (feature_df.Team_2 == 'Manchester City') | (feature_df.Team_1 == 'Newcastle United') | (feature_df.Team_2 == 'Newcastle United')]"
   ]
  },
  {
   "cell_type": "code",
   "execution_count": 18,
   "metadata": {},
   "outputs": [],
   "source": [
    "from sklearn.model_selection import cross_val_score,cross_val_predict\n",
    "from sklearn.metrics import confusion_matrix\n",
    "from sklearn.metrics import classification_report\n",
    "from sklearn import metrics\n",
    "\n",
    "# Function to fit the model, perform CV and testing\n",
    "def perform_cv_and_testing(classifier,x_train,y_train,x_test,y_test):\n",
    "    classifier.fit(x_train, y_train)\n",
    "    auc = cross_val_score(estimator = classifier, X = x_train, y = y_train, cv = 10,scoring='accuracy')\n",
    "   \n",
    "    print('------------------------------------------------------')\n",
    "    print('\\nk-fold CV Mean Accuracy {}\\n'.format(auc.mean()))\n",
    "    print('------------------------------------------------------\\n')\n",
    "    \n",
    "    y_pred = classifier.predict(x_test)\n",
    "    \n",
    "    cm = confusion_matrix(y_test, y_pred, labels=np.unique(y_test))\n",
    "    cm_sum = np.sum(cm, axis=1, keepdims=True)\n",
    "    cm_perc = cm / cm_sum.astype(float) * 100\n",
    "    annot = np.empty_like(cm).astype(str)\n",
    "    nrows, ncols = cm.shape\n",
    "    for i in range(nrows):\n",
    "        for j in range(ncols):\n",
    "            c = cm[i, j]\n",
    "            p = cm_perc[i, j]\n",
    "            if i == j:\n",
    "                s = cm_sum[i]\n",
    "                annot[i, j] = '%.1f%%\\n%d/%d' % (p, c, s)\n",
    "            elif c == 0:\n",
    "                annot[i, j] = '%.1f%%\\n%d' % (p, c)\n",
    "            else:\n",
    "                annot[i, j] = '%.1f%%\\n%d' % (p, c)\n",
    "    cm = pd.DataFrame(cm, index=np.unique(y_test), columns=np.unique(y_test))\n",
    "    cm.index.name = 'Actual'\n",
    "    cm.columns.name = 'Predicted'\n",
    "    fig, ax = plt.subplots(figsize=(7,5))\n",
    "    sns.heatmap(cm, cmap= \"YlGnBu\", annot=annot, fmt='', ax=ax)\n",
    "\n",
    "    \n",
    "\n",
    "    \n",
    "    \n",
    "    print('------------------------------------------------------\\n')\n",
    "    print('Classificaion Report\\n\\n')\n",
    "    print(classification_report(y_test, y_pred, target_names=['Draw','Team_1','Team_2']))\n",
    "   \n",
    "    \n",
    "\n",
    "   "
   ]
  },
  {
   "cell_type": "code",
   "execution_count": null,
   "metadata": {},
   "outputs": [],
   "source": []
  },
  {
   "cell_type": "markdown",
   "metadata": {},
   "source": [
    "#### Experiment 3.1  Analysis of two competent team - Manchester City and Liverpool"
   ]
  },
  {
   "cell_type": "code",
   "execution_count": 19,
   "metadata": {},
   "outputs": [
    {
     "data": {
      "text/plain": [
       "Team_2    31\n",
       "Team_1    27\n",
       "Draw      16\n",
       "Name: Winner, dtype: int64"
      ]
     },
     "execution_count": 19,
     "metadata": {},
     "output_type": "execute_result"
    }
   ],
   "source": [
    "filter_df1.Winner.value_counts()"
   ]
  },
  {
   "cell_type": "code",
   "execution_count": 20,
   "metadata": {},
   "outputs": [],
   "source": [
    "x=filter_df1\n",
    "y=filter_df1.Winner"
   ]
  },
  {
   "cell_type": "code",
   "execution_count": 21,
   "metadata": {},
   "outputs": [
    {
     "data": {
      "text/plain": [
       "Teams\n",
       "Liverpool-Brighton & Hove Albion          Team_1\n",
       "Manchester City-Southampton               Team_1\n",
       "Brighton & Hove Albion-Manchester City    Team_2\n",
       "Liverpool-Chelsea                         Team_2\n",
       "Manchester City-Huddersfield Town           Draw\n",
       "                                           ...  \n",
       "AFC Bournemouth-Manchester City           Team_2\n",
       "Manchester City-Everton                     Draw\n",
       "Crystal Palace-Liverpool                  Team_2\n",
       "Manchester City-Brighton & Hove Albion    Team_1\n",
       "Watford-Liverpool                           Draw\n",
       "Name: Winner, Length: 74, dtype: object"
      ]
     },
     "execution_count": 21,
     "metadata": {},
     "output_type": "execute_result"
    }
   ],
   "source": [
    "y"
   ]
  },
  {
   "cell_type": "code",
   "execution_count": 22,
   "metadata": {},
   "outputs": [],
   "source": [
    "del x['Winner']\n",
    "del x['Team_1']\n",
    "del x['Team_2']"
   ]
  },
  {
   "cell_type": "code",
   "execution_count": 23,
   "metadata": {},
   "outputs": [],
   "source": [
    "# Split of dataset in test and train\n",
    "\n",
    "from sklearn.model_selection import train_test_split\n",
    "x_train, x_test, y_train, y_test = train_test_split(x, y, test_size = 0.2 , random_state = 0)"
   ]
  },
  {
   "cell_type": "code",
   "execution_count": 24,
   "metadata": {},
   "outputs": [
    {
     "name": "stdout",
     "output_type": "stream",
     "text": [
      "------------------------------------------------------\n",
      "\n",
      "k-fold CV Mean Accuracy 0.6266666666666667\n",
      "\n",
      "------------------------------------------------------\n",
      "\n",
      "------------------------------------------------------\n",
      "\n",
      "Classificaion Report\n",
      "\n",
      "\n",
      "              precision    recall  f1-score   support\n",
      "\n",
      "        Draw       0.00      0.00      0.00         4\n",
      "      Team_1       0.50      0.29      0.36         7\n",
      "      Team_2       0.43      0.75      0.55         4\n",
      "\n",
      "    accuracy                           0.33        15\n",
      "   macro avg       0.31      0.35      0.30        15\n",
      "weighted avg       0.35      0.33      0.32        15\n",
      "\n"
     ]
    },
    {
     "data": {
      "image/png": "[encoded data removed]",
      "text/plain": [
       "<Figure size 504x360 with 2 Axes>"
      ]
     },
     "metadata": {
      "needs_background": "light"
     },
     "output_type": "display_data"
    }
   ],
   "source": [
    "from xgboost import XGBClassifier\n",
    "\n",
    "classifierX = XGBClassifier(max_depth = 6,learning_rate= 0.2, objective ='multi:softmax',subsample=0.7)\n",
    "perform_cv_and_testing(classifierX,x_train,y_train,x_test,y_test)"
   ]
  },
  {
   "cell_type": "code",
   "execution_count": 25,
   "metadata": {},
   "outputs": [
    {
     "name": "stdout",
     "output_type": "stream",
     "text": [
      "Accuracy: 33.33%\n"
     ]
    }
   ],
   "source": [
    "from sklearn.metrics import accuracy_score\n",
    "y_pred = classifierX.predict(x_test)\n",
    "\n",
    "\n",
    "accuracy = accuracy_score(y_test, y_pred)\n",
    "print(\"Accuracy: %.2f%%\" % (accuracy * 100.0))"
   ]
  },
  {
   "cell_type": "code",
   "execution_count": 26,
   "metadata": {},
   "outputs": [
    {
     "data": {
      "text/plain": [
       "Teams\n",
       "Liverpool-Chelsea                      Draw\n",
       "Liverpool-West Ham United            Team_1\n",
       "Southampton-Liverpool                Team_2\n",
       "Swansea City-Liverpool               Team_1\n",
       "Liverpool-Burnley                      Draw\n",
       "Manchester City-Leicester City       Team_1\n",
       "Manchester City-Swansea City         Team_1\n",
       "Manchester City-Tottenham Hotspur    Team_1\n",
       "Newcastle United-Liverpool             Draw\n",
       "Manchester City-Crystal Palace         Draw\n",
       "Name: Winner, dtype: object"
      ]
     },
     "execution_count": 26,
     "metadata": {},
     "output_type": "execute_result"
    }
   ],
   "source": [
    "# Wrong Prediction\n",
    "y_test[y_pred != y_test]  "
   ]
  },
  {
   "cell_type": "code",
   "execution_count": 27,
   "metadata": {},
   "outputs": [
    {
     "data": {
      "text/plain": [
       "Teams\n",
       "Manchester United-Manchester City       Team_2\n",
       "West Bromwich Albion-Manchester City    Team_2\n",
       "Leicester City-Liverpool                Team_2\n",
       "Manchester City-Swansea City            Team_1\n",
       "Manchester City-West Bromwich Albion    Team_1\n",
       "Name: Winner, dtype: object"
      ]
     },
     "execution_count": 27,
     "metadata": {},
     "output_type": "execute_result"
    }
   ],
   "source": [
    "# Right Prediction\n",
    "y_test[y_pred == y_test]   "
   ]
  },
  {
   "cell_type": "markdown",
   "metadata": {},
   "source": [
    "#### Experiment 3.2 -  Analysis with the combination of two weak team ( Southhampton and Newcastle United)"
   ]
  },
  {
   "cell_type": "code",
   "execution_count": 28,
   "metadata": {},
   "outputs": [
    {
     "data": {
      "text/plain": [
       "Team_2    26\n",
       "Team_1    26\n",
       "Draw      22\n",
       "Name: Winner, dtype: int64"
      ]
     },
     "execution_count": 28,
     "metadata": {},
     "output_type": "execute_result"
    }
   ],
   "source": [
    "filter_df2.Winner.value_counts()"
   ]
  },
  {
   "cell_type": "code",
   "execution_count": 29,
   "metadata": {},
   "outputs": [],
   "source": [
    "x=filter_df2\n",
    "y=filter_df2.Winner"
   ]
  },
  {
   "cell_type": "code",
   "execution_count": 30,
   "metadata": {},
   "outputs": [],
   "source": [
    "del x['Winner']\n",
    "del x['Team_1']\n",
    "del x['Team_2']"
   ]
  },
  {
   "cell_type": "code",
   "execution_count": 32,
   "metadata": {},
   "outputs": [],
   "source": [
    "# Split of dataset in test and train\n",
    "\n",
    "from sklearn.model_selection import train_test_split\n",
    "x_train, x_test, y_train, y_test = train_test_split(x, y, test_size = 0.2 , random_state = 0)"
   ]
  },
  {
   "cell_type": "code",
   "execution_count": 33,
   "metadata": {},
   "outputs": [
    {
     "name": "stdout",
     "output_type": "stream",
     "text": [
      "------------------------------------------------------\n",
      "\n",
      "k-fold CV Mean Accuracy 0.2533333333333333\n",
      "\n",
      "------------------------------------------------------\n",
      "\n",
      "------------------------------------------------------\n",
      "\n",
      "Classificaion Report\n",
      "\n",
      "\n",
      "              precision    recall  f1-score   support\n",
      "\n",
      "        Draw       0.25      0.20      0.22         5\n",
      "      Team_1       0.00      0.00      0.00         6\n",
      "      Team_2       0.50      1.00      0.67         4\n",
      "\n",
      "    accuracy                           0.33        15\n",
      "   macro avg       0.25      0.40      0.30        15\n",
      "weighted avg       0.22      0.33      0.25        15\n",
      "\n"
     ]
    },
    {
     "data": {
      "image/png": "[encoded data removed]",
      "text/plain": [
       "<Figure size 504x360 with 2 Axes>"
      ]
     },
     "metadata": {
      "needs_background": "light"
     },
     "output_type": "display_data"
    }
   ],
   "source": [
    "from xgboost import XGBClassifier\n",
    "\n",
    "classifierX = XGBClassifier(max_depth = 6,learning_rate= 0.2, objective ='multi:softmax')\n",
    "perform_cv_and_testing(classifierX,x_train,y_train,x_test,y_test)"
   ]
  },
  {
   "cell_type": "code",
   "execution_count": 34,
   "metadata": {},
   "outputs": [
    {
     "name": "stdout",
     "output_type": "stream",
     "text": [
      "Accuracy: 33.33%\n"
     ]
    }
   ],
   "source": [
    "from sklearn.metrics import accuracy_score\n",
    "y_pred = classifierX.predict(x_test)\n",
    "\n",
    "\n",
    "accuracy = accuracy_score(y_test, y_pred)\n",
    "print(\"Accuracy: %.2f%%\" % (accuracy * 100.0))"
   ]
  },
  {
   "cell_type": "code",
   "execution_count": 35,
   "metadata": {},
   "outputs": [
    {
     "data": {
      "text/plain": [
       "Teams\n",
       "Watford-Newcastle United              Team_1\n",
       "Burnley-Southampton                   Team_1\n",
       "Newcastle United-Manchester United    Team_1\n",
       "Arsenal-Southampton                     Draw\n",
       "Southampton-Brighton & Hove Albion      Draw\n",
       "Leicester City-Southampton            Team_1\n",
       "Brighton & Hove Albion-Southampton      Draw\n",
       "Chelsea-Southampton                   Team_1\n",
       "Stoke City-Southampton                Team_1\n",
       "Southampton-Manchester United           Draw\n",
       "Name: Winner, dtype: object"
      ]
     },
     "execution_count": 35,
     "metadata": {},
     "output_type": "execute_result"
    }
   ],
   "source": [
    "# Wrong Prediction\n",
    "y_test[y_pred != y_test]"
   ]
  },
  {
   "cell_type": "code",
   "execution_count": 36,
   "metadata": {},
   "outputs": [
    {
     "data": {
      "text/plain": [
       "Teams\n",
       "Newcastle United-Manchester City           Team_2\n",
       "Crystal Palace-Southampton                 Team_2\n",
       "Newcastle United-Manchester United         Team_2\n",
       "Brighton & Hove Albion-Newcastle United      Draw\n",
       "AFC Bournemouth-Southampton                Team_2\n",
       "Name: Winner, dtype: object"
      ]
     },
     "execution_count": 36,
     "metadata": {},
     "output_type": "execute_result"
    }
   ],
   "source": [
    "# Right Prediction\n",
    "y_test[y_pred == y_test]  "
   ]
  },
  {
   "cell_type": "markdown",
   "metadata": {},
   "source": [
    "#### Experiment 3.3 - Analysis with one strong team and one weak team ( Manchester City and Newcastle United)"
   ]
  },
  {
   "cell_type": "code",
   "execution_count": 37,
   "metadata": {},
   "outputs": [
    {
     "data": {
      "text/plain": [
       "Team_1    34\n",
       "Team_2    28\n",
       "Draw      12\n",
       "Name: Winner, dtype: int64"
      ]
     },
     "execution_count": 37,
     "metadata": {},
     "output_type": "execute_result"
    }
   ],
   "source": [
    "filter_df3.Winner.value_counts()"
   ]
  },
  {
   "cell_type": "code",
   "execution_count": 38,
   "metadata": {},
   "outputs": [],
   "source": [
    "x=filter_df3\n",
    "y=filter_df3.Winner"
   ]
  },
  {
   "cell_type": "code",
   "execution_count": 39,
   "metadata": {},
   "outputs": [],
   "source": [
    "del x['Winner']\n",
    "del x['Team_1']\n",
    "del x['Team_2']"
   ]
  },
  {
   "cell_type": "code",
   "execution_count": 40,
   "metadata": {},
   "outputs": [],
   "source": [
    "# Split of dataset in test and train\n",
    "\n",
    "from sklearn.model_selection import train_test_split\n",
    "x_train, x_test, y_train, y_test = train_test_split(x, y, test_size = 0.2 , random_state = 0)"
   ]
  },
  {
   "cell_type": "code",
   "execution_count": 41,
   "metadata": {},
   "outputs": [
    {
     "name": "stdout",
     "output_type": "stream",
     "text": [
      "------------------------------------------------------\n",
      "\n",
      "k-fold CV Mean Accuracy 0.5633333333333332\n",
      "\n",
      "------------------------------------------------------\n",
      "\n",
      "------------------------------------------------------\n",
      "\n",
      "Classificaion Report\n",
      "\n",
      "\n",
      "              precision    recall  f1-score   support\n",
      "\n",
      "        Draw       1.00      0.50      0.67         2\n",
      "      Team_1       0.75      0.75      0.75         8\n",
      "      Team_2       0.67      0.80      0.73         5\n",
      "\n",
      "    accuracy                           0.73        15\n",
      "   macro avg       0.81      0.68      0.71        15\n",
      "weighted avg       0.76      0.73      0.73        15\n",
      "\n"
     ]
    },
    {
     "data": {
      "image/png": "[encoded data removed]",
      "text/plain": [
       "<Figure size 504x360 with 2 Axes>"
      ]
     },
     "metadata": {
      "needs_background": "light"
     },
     "output_type": "display_data"
    }
   ],
   "source": [
    "from xgboost import XGBClassifier\n",
    "\n",
    "classifierX = XGBClassifier(max_depth = 6,learning_rate= 0.2, objective ='multi:softmax')\n",
    "perform_cv_and_testing(classifierX,x_train,y_train,x_test,y_test)"
   ]
  },
  {
   "cell_type": "code",
   "execution_count": 42,
   "metadata": {},
   "outputs": [
    {
     "name": "stdout",
     "output_type": "stream",
     "text": [
      "Accuracy: 73.33%\n"
     ]
    }
   ],
   "source": [
    "from sklearn.metrics import accuracy_score\n",
    "y_pred = classifierX.predict(x_test)\n",
    "\n",
    "\n",
    "accuracy = accuracy_score(y_test, y_pred)\n",
    "\n",
    "print(\"Accuracy: %.2f%%\" % (accuracy * 100.0))"
   ]
  },
  {
   "cell_type": "code",
   "execution_count": 43,
   "metadata": {},
   "outputs": [
    {
     "data": {
      "text/plain": [
       "Teams\n",
       "Burnley-Newcastle United             Team_1\n",
       "Manchester City-Watford              Team_1\n",
       "Manchester United-Manchester City    Team_2\n",
       "Manchester City-Crystal Palace         Draw\n",
       "Name: Winner, dtype: object"
      ]
     },
     "execution_count": 43,
     "metadata": {},
     "output_type": "execute_result"
    }
   ],
   "source": [
    "# Wrong Prediction list\n",
    "y_test[y_pred != y_test]   "
   ]
  },
  {
   "cell_type": "code",
   "execution_count": 45,
   "metadata": {},
   "outputs": [
    {
     "data": {
      "text/plain": [
       "Teams\n",
       "Newcastle United-Manchester United         Team_2\n",
       "Newcastle United-Manchester United         Team_1\n",
       "Newcastle United-Leicester City            Team_2\n",
       "Newcastle United-Manchester City           Team_2\n",
       "West Bromwich Albion-Manchester City       Team_2\n",
       "Manchester City-Leicester City             Team_1\n",
       "Brighton & Hove Albion-Newcastle United      Draw\n",
       "West Bromwich Albion-Newcastle United      Team_1\n",
       "Manchester City-Burnley                    Team_1\n",
       "Manchester City-Swansea City               Team_1\n",
       "Manchester City-Chelsea                    Team_1\n",
       "Name: Winner, dtype: object"
      ]
     },
     "execution_count": 45,
     "metadata": {},
     "output_type": "execute_result"
    }
   ],
   "source": [
    "# Right Prediction List\n",
    "y_test[y_pred == y_test]  "
   ]
  }
 ],
 "metadata": {
  "kernelspec": {
   "display_name": "Python 3",
   "language": "python",
   "name": "python3"
  },
  "language_info": {
   "codemirror_mode": {
    "name": "ipython",
    "version": 3
   },
   "file_extension": ".py",
   "mimetype": "text/x-python",
   "name": "python",
   "nbconvert_exporter": "python",
   "pygments_lexer": "ipython3",
   "version": "3.7.3"
  }
 },
 "nbformat": 4,
 "nbformat_minor": 4
}
